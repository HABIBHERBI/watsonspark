{
    "nbformat_minor": 1, 
    "cells": [
        {
            "execution_count": 3, 
            "cell_type": "code", 
            "metadata": {}, 
            "outputs": [], 
            "source": "import numpy as np  # useful for many scientific computing in Python\nimport pandas as pd # primary data structure library"
        }, 
        {
            "execution_count": 13, 
            "cell_type": "code", 
            "metadata": {}, 
            "outputs": [
                {
                    "execution_count": 13, 
                    "metadata": {}, 
                    "data": {
                        "text/html": "<div>\n<style scoped>\n    .dataframe tbody tr th:only-of-type {\n        vertical-align: middle;\n    }\n\n    .dataframe tbody tr th {\n        vertical-align: top;\n    }\n\n    .dataframe thead th {\n        text-align: right;\n    }\n</style>\n<table border=\"1\" class=\"dataframe\">\n  <thead>\n    <tr style=\"text-align: right;\">\n      <th></th>\n      <th>Very interested</th>\n      <th>Somewhat interested</th>\n      <th>Not interested</th>\n    </tr>\n  </thead>\n  <tbody>\n    <tr>\n      <th>Big Data (Spark / Hadoop)</th>\n      <td>1332</td>\n      <td>729</td>\n      <td>127</td>\n    </tr>\n    <tr>\n      <th>Data Analysis / Statistics</th>\n      <td>1688</td>\n      <td>444</td>\n      <td>60</td>\n    </tr>\n    <tr>\n      <th>Data Journalism</th>\n      <td>429</td>\n      <td>1081</td>\n      <td>610</td>\n    </tr>\n    <tr>\n      <th>Data Visualization</th>\n      <td>1340</td>\n      <td>734</td>\n      <td>102</td>\n    </tr>\n    <tr>\n      <th>Deep Learning</th>\n      <td>1263</td>\n      <td>770</td>\n      <td>136</td>\n    </tr>\n    <tr>\n      <th>Machine Learning</th>\n      <td>1629</td>\n      <td>477</td>\n      <td>74</td>\n    </tr>\n  </tbody>\n</table>\n</div>", 
                        "text/plain": "                            Very interested  Somewhat interested  \\\nBig Data (Spark / Hadoop)              1332                  729   \nData Analysis / Statistics             1688                  444   \nData Journalism                         429                 1081   \nData Visualization                     1340                  734   \nDeep Learning                          1263                  770   \nMachine Learning                       1629                  477   \n\n                            Not interested  \nBig Data (Spark / Hadoop)              127  \nData Analysis / Statistics              60  \nData Journalism                        610  \nData Visualization                     102  \nDeep Learning                          136  \nMachine Learning                        74  "
                    }, 
                    "output_type": "execute_result"
                }
            ], 
            "source": "df = pd.read_csv('https://cocl.us/datascience_survey_data' , index_col =0)\ndf"
        }, 
        {
            "execution_count": null, 
            "cell_type": "code", 
            "metadata": {}, 
            "outputs": [], 
            "source": ""
        }
    ], 
    "metadata": {
        "kernelspec": {
            "display_name": "Python 3.5", 
            "name": "python3", 
            "language": "python"
        }, 
        "language_info": {
            "mimetype": "text/x-python", 
            "nbconvert_exporter": "python", 
            "version": "3.5.5", 
            "name": "python", 
            "file_extension": ".py", 
            "pygments_lexer": "ipython3", 
            "codemirror_mode": {
                "version": 3, 
                "name": "ipython"
            }
        }
    }, 
    "nbformat": 4
}