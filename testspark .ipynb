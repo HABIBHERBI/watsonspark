{
    "nbformat_minor": 1, 
    "cells": [
        {
            "source": "import org.apache.spark.SparkConf\nimport org.apache.spark.SparkContext\nimport org.apache.spark.SparkContext._\n", 
            "cell_type": "code", 
            "metadata": {}, 
            "outputs": [], 
            "execution_count": 1
        }, 
        {
            "source": "import org.apache.spark.rdd.RDD\n", 
            "cell_type": "code", 
            "metadata": {}, 
            "outputs": [], 
            "execution_count": 2
        }, 
        {
            "source": "val conf: SparkConf = new SparkConf().setMaster(\"local[*]\").setAppName(\"ww\")\n\n  val sc: SparkContext = new SparkContext(conf)", 
            "cell_type": "code", 
            "metadata": {}, 
            "outputs": [
                {
                    "output_type": "display_data", 
                    "data": {
                        "text/plain": "conf = org.apache.spark.SparkConf@5126867e\nsc = org.apache.spark.SparkContext@3d2973fe\n"
                    }, 
                    "metadata": {}
                }, 
                {
                    "output_type": "execute_result", 
                    "data": {
                        "text/plain": "org.apache.spark.SparkContext@3d2973fe"
                    }, 
                    "execution_count": 3, 
                    "metadata": {}
                }
            ], 
            "execution_count": 3
        }, 
        {
            "source": "val l = List((-1,\"jhghj\" ) , (-1 , \"lkjkl\") , (-2 ,\"jkhjkhk\") )\nval rdd1 = sc.parallelize(l) // rdd1[(Int, String)]", 
            "cell_type": "code", 
            "metadata": {}, 
            "outputs": [
                {
                    "output_type": "display_data", 
                    "data": {
                        "text/plain": "l = List((-1,jhghj), (-1,lkjkl), (-2,jkhjkhk))\nrdd1 = ParallelCollectionRDD[0] at parallelize at <console>:42\n"
                    }, 
                    "metadata": {}
                }, 
                {
                    "output_type": "execute_result", 
                    "data": {
                        "text/plain": "ParallelCollectionRDD[0] at parallelize at <console>:42"
                    }, 
                    "execution_count": 4, 
                    "metadata": {}
                }
            ], 
            "execution_count": 4
        }, 
        {
            "source": "val k = List((-1,\"kl\" ) , (-1 , \"kp\") , (-1 ,\"kt\") , (-2 , \"lk\") )\nval rdd2 = sc.parallelize(k)", 
            "cell_type": "code", 
            "metadata": {
                "scrolled": true
            }, 
            "outputs": [
                {
                    "output_type": "display_data", 
                    "data": {
                        "text/plain": "k = List((-1,kl), (-1,kp), (-1,kt), (-2,lk))\nrdd2 = ParallelCollectionRDD[1] at parallelize at <console>:42\n"
                    }, 
                    "metadata": {}
                }, 
                {
                    "output_type": "execute_result", 
                    "data": {
                        "text/plain": "ParallelCollectionRDD[1] at parallelize at <console>:42"
                    }, 
                    "execution_count": 5, 
                    "metadata": {}
                }
            ], 
            "execution_count": 5
        }, 
        {
            "source": "rdd1.join(rdd2).collect()", 
            "cell_type": "code", 
            "metadata": {}, 
            "outputs": [
                {
                    "output_type": "execute_result", 
                    "data": {
                        "text/plain": "Array((-2,(jkhjkhk,lk)), (-1,(jhghj,kl)), (-1,(jhghj,kp)), (-1,(jhghj,kt)), (-1,(lkjkl,kl)), (-1,(lkjkl,kp)), (-1,(lkjkl,kt)))"
                    }, 
                    "execution_count": 6, 
                    "metadata": {}
                }
            ], 
            "execution_count": 6
        }, 
        {
            "source": "rdd1.collectAsMap()\n", 
            "cell_type": "code", 
            "metadata": {}, 
            "outputs": [
                {
                    "output_type": "execute_result", 
                    "data": {
                        "text/plain": "Map(-1 -> lkjkl, -2 -> jkhjkhk)"
                    }, 
                    "execution_count": 7, 
                    "metadata": {}
                }
            ], 
            "execution_count": 7
        }, 
        {
            "source": "val u = List((-1,(-2 , \"lk\") ) , (-1 , (-2 , \"lu\")) , (-1 ,(-2 , \"lp\") ) )\nval rdd3 = sc.parallelize(u)\n\nrdd3.collect().foreach{println}\n//case(u,(p,k) =>  } ", 
            "cell_type": "code", 
            "metadata": {
                "scrolled": true
            }, 
            "outputs": [
                {
                    "output_type": "stream", 
                    "name": "stdout", 
                    "text": "(-1,(-2,lk))\n(-1,(-2,lu))\n(-1,(-2,lp))\n"
                }, 
                {
                    "output_type": "display_data", 
                    "data": {
                        "text/plain": "u = List((-1,(-2,lk)), (-1,(-2,lu)), (-1,(-2,lp)))\nrdd3 = ParallelCollectionRDD[5] at parallelize at <console>:42\n"
                    }, 
                    "metadata": {}
                }, 
                {
                    "output_type": "execute_result", 
                    "data": {
                        "text/plain": "ParallelCollectionRDD[5] at parallelize at <console>:42"
                    }, 
                    "execution_count": 10, 
                    "metadata": {}
                }
            ], 
            "execution_count": 10
        }, 
        {
            "source": "// l.foreach{ case(j,p) =>  println(j + \" \"    +  p) } ", 
            "cell_type": "code", 
            "metadata": {}, 
            "outputs": [
                {
                    "output_type": "stream", 
                    "name": "stdout", 
                    "text": "-1 (-2,lk)\n-1 (-2,lu)\n-1 (-2,lp)\n"
                }
            ], 
            "execution_count": 29
        }, 
        {
            "source": "\nval l = List( List(-1,\"jhghj\" ) , List(-1 , \"lkjkl\") , List(-2 ,\"jkhjkhk\") )\nval rdd1 : RDD[List[Any]] = sc.parallelize(l)\n\n// rdd1.collect().foreach(println)", 
            "cell_type": "code", 
            "metadata": {}, 
            "outputs": [
                {
                    "output_type": "execute_result", 
                    "data": {
                        "text/plain": "Name: Compile Error\nMessage: <console>:44: error: not found: type rdd1\nError occurred in an application involving default arguments.\n       val rdd1 [List[Any]] = sc.parallelize(l)\n           ^\n\nStackTrace: "
                    }, 
                    "execution_count": 12, 
                    "metadata": {}
                }
            ], 
            "execution_count": 12
        }, 
        {
            "source": "val k : List[Any]= List(-1,\"ehdfh\")\n", 
            "cell_type": "code", 
            "metadata": {}, 
            "outputs": [
                {
                    "output_type": "display_data", 
                    "data": {
                        "text/plain": "k = List(-1, ehdfh)\n"
                    }, 
                    "metadata": {}
                }, 
                {
                    "output_type": "execute_result", 
                    "data": {
                        "text/plain": "List(-1, ehdfh)"
                    }, 
                    "execution_count": 3, 
                    "metadata": {}
                }
            ], 
            "execution_count": 3
        }
    ], 
    "metadata": {
        "kernelspec": {
            "display_name": "Scala 2.11 with Spark", 
            "name": "scala", 
            "language": "scala"
        }, 
        "language_info": {
            "mimetype": "text/x-scala", 
            "version": "2.11.12", 
            "name": "scala", 
            "pygments_lexer": "scala", 
            "file_extension": ".scala", 
            "codemirror_mode": "text/x-scala"
        }
    }, 
    "nbformat": 4
}